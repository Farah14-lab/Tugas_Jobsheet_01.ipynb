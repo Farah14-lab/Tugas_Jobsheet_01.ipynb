{
 "cells": [
  {
   "cell_type": "code",
   "execution_count": 4,
   "metadata": {},
   "outputs": [
    {
     "name": "stdout",
     "output_type": "stream",
     "text": [
      "Requirement already satisfied: wheel in c:\\users\\lenovo ip3\\appdata\\local\\programs\\python\\python310\\lib\\site-packages (0.37.1)\n",
      "Note: you may need to restart the kernel to use updated packages.\n"
     ]
    },
    {
     "name": "stderr",
     "output_type": "stream",
     "text": [
      "WARNING: You are using pip version 21.2.3; however, version 22.2.2 is available.\n",
      "You should consider upgrading via the 'c:\\Users\\LENOVO IP3\\AppData\\Local\\Programs\\Python\\Python310\\python.exe -m pip install --upgrade pip' command.\n"
     ]
    }
   ],
   "source": [
    "pip install wheel"
   ]
  },
  {
   "cell_type": "code",
   "execution_count": 5,
   "metadata": {},
   "outputs": [
    {
     "name": "stdout",
     "output_type": "stream",
     "text": [
      "Requirement already satisfied: pandas in c:\\users\\lenovo ip3\\appdata\\local\\programs\\python\\python310\\lib\\site-packages (1.4.4)\n",
      "Requirement already satisfied: pytz>=2020.1 in c:\\users\\lenovo ip3\\appdata\\local\\programs\\python\\python310\\lib\\site-packages (from pandas) (2022.2.1)\n",
      "Requirement already satisfied: numpy>=1.21.0 in c:\\users\\lenovo ip3\\appdata\\local\\programs\\python\\python310\\lib\\site-packages (from pandas) (1.23.3)\n",
      "Requirement already satisfied: python-dateutil>=2.8.1 in c:\\users\\lenovo ip3\\appdata\\roaming\\python\\python310\\site-packages (from pandas) (2.8.2)\n",
      "Requirement already satisfied: six>=1.5 in c:\\users\\lenovo ip3\\appdata\\roaming\\python\\python310\\site-packages (from python-dateutil>=2.8.1->pandas) (1.16.0)\n",
      "Note: you may need to restart the kernel to use updated packages.\n"
     ]
    },
    {
     "name": "stderr",
     "output_type": "stream",
     "text": [
      "WARNING: You are using pip version 21.2.3; however, version 22.2.2 is available.\n",
      "You should consider upgrading via the 'c:\\Users\\LENOVO IP3\\AppData\\Local\\Programs\\Python\\Python310\\python.exe -m pip install --upgrade pip' command.\n"
     ]
    }
   ],
   "source": [
    "pip install pandas"
   ]
  },
  {
   "cell_type": "code",
   "execution_count": 6,
   "metadata": {},
   "outputs": [],
   "source": [
    "import pandas as pd"
   ]
  },
  {
   "cell_type": "code",
   "execution_count": 2,
   "metadata": {},
   "outputs": [],
   "source": [
    "read = data_set.readlines()"
   ]
  },
  {
   "cell_type": "code",
   "execution_count": 7,
   "metadata": {},
   "outputs": [],
   "source": [
    "data_set = open(\"orange.txt\", \"r\")"
   ]
  },
  {
   "cell_type": "code",
   "execution_count": 8,
   "metadata": {},
   "outputs": [
    {
     "name": "stdout",
     "output_type": "stream",
     "text": [
      "  (1, 400)\t0.7281363064145794\n",
      "  (1, 411)\t0.6854323593768635\n",
      "  (2, 13)\t0.30308397998114545\n",
      "  (2, 3)\t0.28530862375309646\n",
      "  (2, 12)\t0.30308397998114545\n",
      "  (2, 14)\t0.6061679599622909\n",
      "  (2, 10)\t0.6061679599622909\n",
      "  (3, 731)\t0.5148701198938749\n",
      "  (3, 519)\t0.4846738693600748\n",
      "  (3, 1415)\t0.4846738693600748\n",
      "  (3, 114)\t0.5148701198938749\n",
      "  (4, 1275)\t0.45239407812828164\n",
      "  (4, 75)\t0.45239407812828164\n",
      "  (4, 597)\t0.45239407812828164\n",
      "  (4, 1189)\t0.45239407812828164\n",
      "  (4, 519)\t0.4258619404194846\n",
      "  (7, 1002)\t0.6796907627108469\n",
      "  (7, 942)\t0.7334987846517178\n",
      "  (9, 1251)\t0.41631804973527764\n",
      "  (9, 1125)\t0.4647644212410564\n",
      "  (9, 916)\t0.5525727618210478\n",
      "  (9, 590)\t0.5525727618210478\n",
      "  (10, 490)\t0.45288336929864953\n",
      "  (10, 21)\t0.45288336929864953\n",
      "  (10, 16)\t0.45288336929864953\n",
      "  :\t:\n",
      "  (732, 1203)\t0.4618143446356029\n",
      "  (732, 1334)\t0.43590435540225986\n",
      "  (732, 812)\t0.43590435540225986\n",
      "  (732, 907)\t0.5011503877659387\n",
      "  (732, 814)\t0.3943990185250447\n",
      "  (733, 640)\t0.5517956546864566\n",
      "  (733, 1107)\t0.5517956546864566\n",
      "  (733, 369)\t0.40239927678590304\n",
      "  (733, 500)\t0.4786626504966431\n",
      "  (734, 1394)\t0.3963357673974527\n",
      "  (734, 1039)\t0.3963357673974527\n",
      "  (734, 1349)\t0.3963357673974527\n",
      "  (734, 91)\t0.3963357673974527\n",
      "  (734, 145)\t0.3565991795197066\n",
      "  (734, 1247)\t0.3730913535823604\n",
      "  (734, 1224)\t0.3245176497108338\n",
      "  (735, 203)\t0.5242022901332337\n",
      "  (735, 1543)\t0.5242022901332337\n",
      "  (735, 1458)\t0.5242022901332337\n",
      "  (735, 779)\t0.41908934257174724\n",
      "  (736, 504)\t0.568616013261397\n",
      "  (736, 812)\t0.4945864610362741\n",
      "  (736, 1244)\t0.41706158898735884\n",
      "  (736, 745)\t0.5080548130011844\n",
      "  (737, 1334)\t1.0\n"
     ]
    }
   ],
   "source": [
    "from http.client import responses\n",
    "from sklearn.feature_extraction.text import TfidfVectorizer\n",
    "\n",
    "vectorizer = TfidfVectorizer(stop_words='english')\n",
    "responses = vectorizer.fit_transform(read)\n",
    "print(responses)"
   ]
  },
  {
   "cell_type": "code",
   "execution_count": 9,
   "metadata": {},
   "outputs": [
    {
     "data": {
      "text/plain": [
       "array(['000', '10', '12th', ..., 'young', 'youngster', 'zero'],\n",
       "      dtype=object)"
      ]
     },
     "execution_count": 9,
     "metadata": {},
     "output_type": "execute_result"
    }
   ],
   "source": [
    "vectorizer.get_feature_names_out()"
   ]
  },
  {
   "cell_type": "code",
   "execution_count": 10,
   "metadata": {},
   "outputs": [
    {
     "data": {
      "text/plain": [
       "matrix([[0., 0., 0., ..., 0., 0., 0.],\n",
       "        [0., 0., 0., ..., 0., 0., 0.],\n",
       "        [0., 0., 0., ..., 0., 0., 0.],\n",
       "        ...,\n",
       "        [0., 0., 0., ..., 0., 0., 0.],\n",
       "        [0., 0., 0., ..., 0., 0., 0.],\n",
       "        [0., 0., 0., ..., 0., 0., 0.]])"
      ]
     },
     "execution_count": 10,
     "metadata": {},
     "output_type": "execute_result"
    }
   ],
   "source": [
    "responses.todense()"
   ]
  }
 ],
 "metadata": {
  "kernelspec": {
   "display_name": "Python 3.10.0 64-bit",
   "language": "python",
   "name": "python3"
  },
  "language_info": {
   "codemirror_mode": {
    "name": "ipython",
    "version": 3
   },
   "file_extension": ".py",
   "mimetype": "text/x-python",
   "name": "python",
   "nbconvert_exporter": "python",
   "pygments_lexer": "ipython3",
   "version": "3.10.0"
  },
  "orig_nbformat": 4,
  "vscode": {
   "interpreter": {
    "hash": "dc3f6f8a047d3056d7731fb7c0c025bc4fb4133f13024c91999d344547bd13ef"
   }
  }
 },
 "nbformat": 4,
 "nbformat_minor": 2
}
